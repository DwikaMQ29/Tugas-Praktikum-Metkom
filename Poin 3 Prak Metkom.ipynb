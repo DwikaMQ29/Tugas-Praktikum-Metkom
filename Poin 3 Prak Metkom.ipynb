{
 "cells": [
  {
   "cell_type": "markdown",
   "id": "f0ac3723",
   "metadata": {},
   "source": [
    "# Dwika Miftahul Qohar    ||    20/459221/PA/19882"
   ]
  },
  {
   "cell_type": "code",
   "execution_count": 10,
   "id": "557a026e",
   "metadata": {},
   "outputs": [
    {
     "name": "stdout",
     "output_type": "stream",
     "text": [
      "Program Menghitung Volume Balok\n",
      "Mau panjangnya berapa = 213\n",
      "Mau lebarnya berapa   = 123\n",
      "Mau tingginya berpa   = 2\n",
      "==============Sehingga Didapatkan=============\n",
      "Volume Balok  = 52398.00\n"
     ]
    }
   ],
   "source": [
    "print (\"Program Menghitung Volume Balok\")\n",
    "panjang = float(input(\"Mau panjangnya berapa = \"))\n",
    "lebar = float(input(\"Mau lebarnya berapa   = \"))\n",
    "tinggi = float(input(\"Mau tingginya berpa   = \"))\n",
    "\n",
    "v = panjang*lebar*tinggi\n",
    "print (\"==============Sehingga Didapatkan=============\")\n",
    "print (\"Volume Balok  = %0.2f\" %v)"
   ]
  },
  {
   "cell_type": "markdown",
   "id": "f1d1f53e",
   "metadata": {},
   "source": [
    "## Sekian "
   ]
  }
 ],
 "metadata": {
  "kernelspec": {
   "display_name": "Python 3",
   "language": "python",
   "name": "python3"
  },
  "language_info": {
   "codemirror_mode": {
    "name": "ipython",
    "version": 3
   },
   "file_extension": ".py",
   "mimetype": "text/x-python",
   "name": "python",
   "nbconvert_exporter": "python",
   "pygments_lexer": "ipython3",
   "version": "3.8.5"
  }
 },
 "nbformat": 4,
 "nbformat_minor": 5
}
